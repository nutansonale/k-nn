{
 "cells": [
  {
   "cell_type": "code",
   "execution_count": 3,
   "metadata": {},
   "outputs": [
    {
     "name": "stdout",
     "output_type": "stream",
     "text": [
      "enter a cartisian co-ordinate data: \n",
      "enter x value:0\n",
      "enter y value:2\n",
      "given data belongs to group 2\n",
      "continue or not y/ny\n",
      "enter a cartisian co-ordinate data: \n",
      "enter x value:1\n",
      "enter y value:5\n",
      "given data belongs to group 1\n",
      "continue or not y/nn\n",
      "[(1, 12), (2, 5), (3, 6), (3, 10), (3.5, 8), (2, 11), (2, 9), (1, 7), (1.0, 5.0)]\n",
      "[(5, 3), (3, 2), (1.5, 9), (7, 2), (6, 1), (3.8, 1), (5.6, 4), (4, 2), (2, 5), (0.0, 2.0)]\n"
     ]
    },
    {
     "data": {
      "image/png": "[encoded data removed]",
      "text/plain": [
       "<matplotlib.figure.Figure at 0x7f5a62d9f1d0>"
      ]
     },
     "metadata": {},
     "output_type": "display_data"
    }
   ],
   "source": [
    "import math\n",
    "import numpy as nu\n",
    "import matplotlib.pyplot as plt\n",
    "\n",
    "def classicfy(data1,data2,p):\n",
    "    p[0]=float(p[0])\n",
    "    p[1]=float(p[1])\n",
    "    plt.plot(p[0],p[1],'o')\n",
    "    dat=[]\n",
    "    for i in range(len(data2)):\n",
    "        for j in range(len(data2[i])-1):\n",
    "            dist=math.sqrt((data2[i][j]-p[0])**2 +(data2[i][j+1]-p[1])**2)\n",
    "            dat.append((dist,2))\n",
    "            plt.scatter(data2[i][j],data2[i][j+1],s=5,c=2)\n",
    "    \n",
    "    for i in range(len(data1)):\n",
    "        for j in range(len(data1[i])-1):\n",
    "            dist=math.sqrt((data1[i][j]-p[0])**2 +(data1[i][j+1]-p[1])**2)\n",
    "            dat.append((dist,1))\n",
    "            plt.scatter(data1[i][j],data1[i][j+1],s=10,c=20)\n",
    "    dat=sorted(dat)\n",
    "    #print(\"obtained ecludian distance:\",dat ) \n",
    "    fr=dat[0:5]\n",
    "    fr1=0\n",
    "    fr2=0\n",
    "    #print(\"fr\",fr)\n",
    "    for i in range(len(fr)):\n",
    "        if fr[i][1]==1:\n",
    "            fr1+=1\n",
    "        elif fr[i][1]==2:\n",
    "            fr2+=1\n",
    "    if fr1>fr2:\n",
    "        gp1.append((p[0],p[1]))\n",
    "        print(\"given data belongs to group 1\")\n",
    "    else:\n",
    "        gp2.append((p[0],p[1]))\n",
    "        print(\"given data belongs to group 2\")\n",
    "    \n",
    "    \n",
    "    \n",
    "\n",
    "    \n",
    "gp1=[(1,12),(2,5),(3,6),(3,10),(3.5,8),(2,11),(2,9),(1,7)]\n",
    "gp2=[(5,3),(3,2),(1.5,9),(7,2),(6,1),(3.8,1),(5.6,4),(4,2),(2,5)]\n",
    "choice=\"y\"\n",
    "while(choice==\"y\"):\n",
    "    p=[]\n",
    "    print(\"enter a cartisian co-ordinate data: \")\n",
    "    p.append(input(\"enter x value:\"))\n",
    "    p.append(input(\"enter y value:\"))\n",
    "    classicfy(gp1,gp2,p)\n",
    "    choice=input(\"continue or not y/n\")\n",
    "\n",
    "print(gp1)\n",
    "print(gp2)"
   ]
  },
  {
   "cell_type": "code",
   "execution_count": null,
   "metadata": {},
   "outputs": [],
   "source": []
  }
 ],
 "metadata": {
  "kernelspec": {
   "display_name": "Python 3",
   "language": "python",
   "name": "python3"
  },
  "language_info": {
   "codemirror_mode": {
    "name": "ipython",
    "version": 3
   },
   "file_extension": ".py",
   "mimetype": "text/x-python",
   "name": "python",
   "nbconvert_exporter": "python",
   "pygments_lexer": "ipython3",
   "version": "3.8.2"
  }
 },
 "nbformat": 4,
 "nbformat_minor": 2
}
